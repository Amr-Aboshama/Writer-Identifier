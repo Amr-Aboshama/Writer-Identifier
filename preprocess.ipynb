{
 "cells": [
  {
   "cell_type": "code",
   "execution_count": 220,
   "metadata": {},
   "outputs": [],
   "source": [
    "import cv2\n",
    "import cv2 as cv\n",
    "import numpy as np\n",
    "from matplotlib import pyplot as plt\n",
    "# import the necessary packages\n",
    "from skimage import feature\n",
    "import glob\n",
    "from skimage.filters import threshold_otsu\n",
    "from sklearn import svm\n",
    "import time\n",
    "from copy import deepcopy\n",
    "from sklearn.metrics import accuracy_score"
   ]
  },
  {
   "cell_type": "code",
   "execution_count": 221,
   "metadata": {},
   "outputs": [],
   "source": [
    "#############----------------------IO function-----------------#############\n",
    "# This function reads forms from folders representing each iteration inside folder data\n",
    "def readData(folderName):\n",
    "\n",
    "    trainingImagePaths = []\n",
    "    trainingLabels = []\n",
    "    for trainingPath, trainingWriterFolder in enumerate(sorted(glob.glob(folderName + \"/*/\"))):\n",
    "      \n",
    "        trainingFiles = sorted(glob.glob(trainingWriterFolder + \"/*.PNG\"))\n",
    "        trainingImagePaths += trainingFiles\n",
    "\n",
    "        trainingLabels += [trainingPath]*len(trainingFiles)\n",
    "\n",
    "    testingFormPath = glob.glob(folderName + \"/*.PNG\")[0]\n",
    "\n",
    "    return trainingImagePaths, testingFormPath,trainingLabels\n"
   ]
  },
  {
   "cell_type": "code",
   "execution_count": null,
   "metadata": {},
   "outputs": [],
   "source": []
  },
  {
   "cell_type": "code",
   "execution_count": null,
   "metadata": {},
   "outputs": [],
   "source": []
  },
  {
   "cell_type": "code",
   "execution_count": 262,
   "metadata": {},
   "outputs": [],
   "source": [
    "def LocalBinaryPatternHistogram(numPoints,radius,image):\n",
    "\n",
    "    lbp = feature.local_binary_pattern(image, numPoints,radius, method=\"nri_uniform\")\n",
    "    (hist, _) = np.histogram(lbp.ravel(),bins=np.arange(0, numPoints + 3),range=(0,numPoints + 2))\n",
    "    # normalize the histogram\n",
    "    hist = hist.astype(\"float\")\n",
    "    hist /= (hist.sum())\n",
    "    # return the histogram of Local Binary Patterns\n",
    "    return hist\n",
    "    "
   ]
  },
  {
   "cell_type": "code",
   "execution_count": 263,
   "metadata": {
    "scrolled": false
   },
   "outputs": [],
   "source": [
    "#This function extracts the text part only from IAM image \n",
    "def crop_text(image):\n",
    "   # Load image, convert to grayscale, Otsu's threshold\n",
    "    gray = cv2.cvtColor(image,cv2.COLOR_BGR2GRAY)\n",
    "    thresh = cv2.threshold(gray, 0, 255, cv2.THRESH_BINARY_INV + cv2.THRESH_OTSU)[1]\n",
    " \n",
    "\n",
    "    # Detect horizontal lines\n",
    "    horizontal_kernel = cv2.getStructuringElement(cv2.MORPH_RECT, (80,1))\n",
    "    detect_horizontal = cv2.morphologyEx(thresh, cv2.MORPH_OPEN, horizontal_kernel, iterations=2)\n",
    "    cnts = cv2.findContours(detect_horizontal, cv2.RETR_EXTERNAL, cv2.CHAIN_APPROX_SIMPLE)\n",
    "    cnts = cnts[0] if len(cnts) == 2 else cnts[1]\n",
    "\n",
    "    #upper horizontal\n",
    "    x,y,w,h = cv2.boundingRect(cnts[-2])\n",
    "\n",
    "    #lower horizontal\n",
    "    x1,y1,w1,h1 = cv2.boundingRect(cnts[0])\n",
    "  \n",
    "    #final text only extract\n",
    "    gray=gray[y+h+5:y1,:]\n",
    "\n",
    "    #done cropping from horizontal lines\n",
    "    #continue to remove extra white space\n",
    "\n",
    "    # Create rectangular structuring element and dilate\n",
    "    blur = cv2.GaussianBlur(gray, (7,7), 0)\n",
    "    kernel = cv2.getStructuringElement(cv2.MORPH_RECT, (31,31))\n",
    "    dilate = cv2.dilate(thresh[y+h+5:y1,:], kernel, iterations=4)\n",
    " \n",
    "    # Find contours and draw rectangle\n",
    "    cnts = cv2.findContours(dilate, cv2.RETR_EXTERNAL, cv2.CHAIN_APPROX_SIMPLE)\n",
    "    cnts = cnts[0] if len(cnts) == 2 else cnts[1]\n",
    "    for c in cnts:\n",
    "        x,y,w,h = cv2.boundingRect(c)\n",
    "        largest = max(cnts, key = cv2.contourArea)\n",
    "\n",
    "    xf,yf,wf,hf = cv2.boundingRect(largest)\n",
    "    cv2.rectangle(blur,(xf,yf),(xf+wf,yf+hf),(0,255,0),2) \n",
    "    prepro_img=blur[yf:yf+hf, xf:xf+wf]\n",
    "    thresh = cv2.threshold(prepro_img, 0, 255, cv2.THRESH_BINARY_INV + cv2.THRESH_OTSU)[1]\n",
    "    \n",
    "    return prepro_img,thresh\n"
   ]
  },
  {
   "cell_type": "code",
   "execution_count": 252,
   "metadata": {},
   "outputs": [],
   "source": [
    "##########################################################################################################################"
   ]
  },
  {
   "cell_type": "code",
   "execution_count": 253,
   "metadata": {},
   "outputs": [
    {
     "name": "stdout",
     "output_type": "stream",
     "text": [
      "(107, 1958)\n"
     ]
    },
    {
     "data": {
      "image/png": "[encoded data removed]",
      "text/plain": [
       "<Figure size 432x288 with 1 Axes>"
      ]
     },
     "metadata": {
      "needs_background": "light"
     },
     "output_type": "display_data"
    },
    {
     "data": {
      "image/png": "[encoded data removed]",
      "text/plain": [
       "<Figure size 432x288 with 1 Axes>"
      ]
     },
     "metadata": {
      "needs_background": "light"
     },
     "output_type": "display_data"
    },
    {
     "data": {
      "image/png": "[encoded data removed]",
      "text/plain": [
       "<Figure size 432x288 with 1 Axes>"
      ]
     },
     "metadata": {
      "needs_background": "light"
     },
     "output_type": "display_data"
    },
    {
     "data": {
      "image/png": "[encoded data removed]",
      "text/plain": [
       "<Figure size 432x288 with 1 Axes>"
      ]
     },
     "metadata": {
      "needs_background": "light"
     },
     "output_type": "display_data"
    },
    {
     "data": {
      "image/png": "[encoded data removed]",
      "text/plain": [
       "<Figure size 432x288 with 1 Axes>"
      ]
     },
     "metadata": {
      "needs_background": "light"
     },
     "output_type": "display_data"
    },
    {
     "data": {
      "image/png": "[encoded data removed]",
      "text/plain": [
       "<Figure size 432x288 with 1 Axes>"
      ]
     },
     "metadata": {
      "needs_background": "light"
     },
     "output_type": "display_data"
    },
    {
     "data": {
      "image/png": "[encoded data removed]",
      "text/plain": [
       "<Figure size 432x288 with 1 Axes>"
      ]
     },
     "metadata": {
      "needs_background": "light"
     },
     "output_type": "display_data"
    },
    {
     "data": {
      "image/png": "[encoded data removed]",
      "text/plain": [
       "<Figure size 432x288 with 1 Axes>"
      ]
     },
     "metadata": {
      "needs_background": "light"
     },
     "output_type": "display_data"
    },
    {
     "data": {
      "image/png": "[encoded data removed]",
      "text/plain": [
       "<Figure size 432x288 with 1 Axes>"
      ]
     },
     "metadata": {
      "needs_background": "light"
     },
     "output_type": "display_data"
    }
   ],
   "source": [
    "# This function preprocesses a form\n",
    "\n",
    "# This function splits a sequence of numbers on a given value (smallest)\n",
    "def splitz(seq, smallest):\n",
    "    group = []\n",
    "    for i in range(len(seq)):\n",
    "        if (seq[i] >= (smallest)):\n",
    "            group.append(i)\n",
    "        elif group:\n",
    "            yield group\n",
    "            group = []\n",
    "\n",
    "\n",
    "def preprocessForm(filename):\n",
    "    # Read image and convert it to binary\n",
    "    img = cv2.imread(filename)\n",
    "\n",
    "    image,binarizedImage=crop_text(img) \n",
    "    gray_img=deepcopy(image)\n",
    "    image[binarizedImage == 0] = 0\n",
    "    image[binarizedImage == 255] = 1\n",
    "  \n",
    "    verticalHistogram = image.sum(axis=1)\n",
    "    smallest = int(np.average(verticalHistogram) - np.min(verticalHistogram)) / 4\n",
    "    \n",
    "    linesArrays = splitz(verticalHistogram, int(smallest))\n",
    "   \n",
    "    horizontalHistogram = image.sum(axis=0)\n",
    "   \n",
    "    smallest = int(np.average(horizontalHistogram) - np.min(horizontalHistogram)) / 4\n",
    "    marginsArrays = (list(splitz(horizontalHistogram[30:], smallest)))\n",
    "\n",
    "    counter = 0\n",
    "    extractedLines = []\n",
    "    extractedLines_gray=[]\n",
    "\n",
    "    # For each array (representing a line) extracted, perform some preprocessing operations\n",
    "    for arr in (linesArrays):\n",
    "        if (arr[-1] - arr[0] > 30):\n",
    "            line = image[arr[0]:arr[-1], marginsArrays[0][0]:marginsArrays[-1][-1]]\n",
    "            line[line != 0] = 255\n",
    "            extractedLines.append(line)\n",
    "            \n",
    "            line_gray = gray_img[arr[0]:arr[-1], marginsArrays[0][0]:marginsArrays[-1][-1]]\n",
    "            extractedLines_gray.append(line_gray)\n",
    "            \n",
    "            counter += 1\n",
    "\n",
    "    return extractedLines,extractedLines_gray\n",
    "\n",
    "extractedLines,extractedLines_gray=preprocessForm(\"Test Samples/data/01/1.png\")\n",
    "print(extractedLines[0].shape)\n",
    "\n",
    "for line in extractedLines:\n",
    "    plt.imshow(line,cmap='gray')\n",
    "    plt.show()"
   ]
  },
  {
   "cell_type": "code",
   "execution_count": null,
   "metadata": {},
   "outputs": [],
   "source": []
  },
  {
   "cell_type": "code",
   "execution_count": 254,
   "metadata": {},
   "outputs": [],
   "source": []
  },
  {
   "cell_type": "code",
   "execution_count": 255,
   "metadata": {},
   "outputs": [],
   "source": [
    "#############-----------------FEATURES---------------#####################\n",
    "#extract Features\n",
    "def getFeatures(extractedLines,extractedLines_gray):\n",
    "    interword=[]\n",
    "    hist=[]\n",
    "    for i,j in zip(extractedLines,extractedLines_gray):\n",
    "        \n",
    "        hist.append(LocalBinaryPatternHistogram(8,2,i))\n",
    "    \n",
    "    return hist\n",
    "    \n",
    "features= getFeatures(extractedLines,extractedLines_gray)\n",
    "# print(features.len)\n",
    "\n"
   ]
  },
  {
   "cell_type": "code",
   "execution_count": 256,
   "metadata": {},
   "outputs": [],
   "source": [
    "# This function is used to return features vectors and their labels\n",
    "def getFeaturesAndLabels(filename, labelVal, formsFeaturesVectors, labels):\n",
    "    \n",
    "    print(\"current image is \", filename)\n",
    "   \n",
    "    extractedLines,gray = preprocessForm(filename)\n",
    "    \n",
    "    featuresVectors = np.array(getFeatures(extractedLines,gray))  \n",
    "    #featuresVectors=featuresVectors.reshape(1,-1)\n",
    "    \n",
    "    print(featuresVectors.shape)\n",
    "    #print(featuresVectors)\n",
    "    \n",
    "    formsFeaturesVectors = np.vstack((formsFeaturesVectors, featuresVectors)) \n",
    "    \n",
    "    for i in range(featuresVectors.shape[0]):\n",
    "        labels.append(labelVal)\n",
    "\n",
    "    return np.array(formsFeaturesVectors), labels\n",
    "\n",
    "# This function returns training features and corresponding labels of all test case\n",
    "def getTrainingData(trainingFormIDs, trainingLabels, yTrain, formsFeaturesVectors):\n",
    "    \n",
    "    for trainingIndex, formID in enumerate(trainingFormIDs):\n",
    "        formsFeaturesVectors, labels= getFeaturesAndLabels(formID, trainingLabels[trainingIndex], formsFeaturesVectors, yTrain)\n",
    "\n",
    "    xTrain = np.array(formsFeaturesVectors)\n",
    "    yTrain = np.array(yTrain)\n",
    "    \n",
    "    return xTrain, yTrain\n",
    "\n",
    "# This function is used to return test features vectors\n",
    "def getTestFeatures(filename, formsFeaturesVectors):\n",
    "    print(\"current image is \", filename)\n",
    "    extractedLines,gray = preprocessForm(filename)\n",
    "\n",
    "    featuresVectors = np.array(getFeatures(extractedLines,gray))\n",
    "        \n",
    "    formsFeaturesVectors = np.vstack((formsFeaturesVectors, featuresVectors))\n",
    "            \n",
    "    return np.array(formsFeaturesVectors)"
   ]
  },
  {
   "cell_type": "code",
   "execution_count": 257,
   "metadata": {},
   "outputs": [],
   "source": [
    "# This function applies SVM classifier on test features given training set\n",
    "def SVM(xTrain, yTrain, xTest):\n",
    "    \n",
    "    clf = svm.SVC(gamma='scale')\n",
    "    clf.fit(xTrain, yTrain)\n",
    "    predictions = clf.predict(xTest)\n",
    "\n",
    "    uniquePredictions, uniquePredictionsCount = np.unique(predictions, return_counts=True)\n",
    "    classification = uniquePredictions[np.argmax(uniquePredictionsCount)]\n",
    "    return classification, predictions"
   ]
  },
  {
   "cell_type": "code",
   "execution_count": 258,
   "metadata": {},
   "outputs": [],
   "source": [
    "# This function writes the classified class to a results.txt file and the time of training and testing in time.txt file\n",
    "def writeOutput(classification, t1, t0):\n",
    "    f = open(\"results.txt\", \"a\")\n",
    "    f.write(str(classification + 1) + \"\\n\")\n",
    "    f.close()\n",
    "\n",
    "    f = open(\"time.txt\", \"a\")\n",
    "    f.write(str(round(t1 - t0, 2)) + \"\\n\")\n",
    "    f.close()\n"
   ]
  },
  {
   "cell_type": "code",
   "execution_count": 266,
   "metadata": {},
   "outputs": [
    {
     "name": "stdout",
     "output_type": "stream",
     "text": [
      "current image is  data\\01\\1\\a01-000x.png\n",
      "(6, 10)\n",
      "current image is  data\\01\\1\\a01-072x.png\n",
      "(8, 10)\n",
      "current image is  data\\01\\2\\a01-000u.png\n",
      "(7, 10)\n",
      "current image is  data\\01\\2\\a01-003u.png\n",
      "(11, 10)\n",
      "current image is  data\\01\\3\\a01-003x.png\n",
      "(9, 10)\n",
      "current image is  data\\01\\3\\a01-007x.png\n",
      "(8, 10)\n",
      "current image is  data\\01\\1.png\n",
      "current image is  data\\02\\1\\a01-011.png\n",
      "(7, 10)\n",
      "current image is  data\\02\\1\\a01-030.png\n",
      "(8, 10)\n",
      "current image is  data\\02\\2\\b01-044.png\n",
      "(7, 10)\n",
      "current image is  data\\02\\2\\b01-049.png\n",
      "(8, 10)\n",
      "current image is  data\\02\\3\\a01-014.png\n",
      "(10, 10)\n",
      "current image is  data\\02\\3\\a01-038.png\n",
      "(12, 10)\n",
      "current image is  data\\02\\2.png\n",
      "current image is  data\\03\\1\\a01-014x.png\n",
      "(10, 10)\n",
      "current image is  data\\03\\1\\a01-026x.png\n",
      "(10, 10)\n",
      "current image is  data\\03\\2\\a01-020.png\n",
      "(9, 10)\n",
      "current image is  data\\03\\2\\a01-026.png\n",
      "(10, 10)\n",
      "current image is  data\\03\\3\\a04-000.png\n",
      "(7, 10)\n",
      "current image is  data\\03\\3\\a04-003.png\n",
      "(8, 10)\n",
      "current image is  data\\03\\3.png\n",
      "current image is  data\\04\\1\\b01-057.png\n",
      "(11, 10)\n",
      "current image is  data\\04\\1\\b01-062.png\n",
      "(10, 10)\n",
      "current image is  data\\04\\2\\a02-017.png\n",
      "(8, 10)\n",
      "current image is  data\\04\\2\\a02-020.png\n",
      "(7, 10)\n",
      "current image is  data\\04\\3\\a02-037.png\n",
      "(10, 10)\n",
      "current image is  data\\04\\3\\a02-042.png\n",
      "(8, 10)\n",
      "current image is  data\\04\\2.png\n",
      "current image is  data\\05\\1\\a01-020x.png\n",
      "(9, 10)\n",
      "current image is  data\\05\\1\\a01-030x.png\n",
      "(9, 10)\n",
      "current image is  data\\05\\2\\a02-102.png\n",
      "(9, 10)\n",
      "current image is  data\\05\\2\\a02-106.png\n",
      "(11, 10)\n",
      "current image is  data\\05\\3\\a04-019.png\n",
      "(8, 10)\n",
      "current image is  data\\05\\3\\a04-023.png\n",
      "(7, 10)\n",
      "current image is  data\\05\\2.png\n",
      "current image is  data\\06\\1\\a04-031.png\n",
      "(10, 10)\n",
      "current image is  data\\06\\1\\a04-035.png\n",
      "(10, 10)\n",
      "current image is  data\\06\\2\\a04-050.png\n",
      "(7, 10)\n",
      "current image is  data\\06\\2\\a04-054.png\n",
      "(7, 10)\n",
      "current image is  data\\06\\3\\a04-081.png\n",
      "(10, 10)\n",
      "current image is  data\\06\\3\\a04-085.png\n",
      "(10, 10)\n",
      "current image is  data\\06\\1.png\n",
      "current image is  data\\07\\1\\a06-134.png\n",
      "(6, 10)\n",
      "current image is  data\\07\\1\\a06-141.png\n",
      "(4, 10)\n",
      "current image is  data\\07\\2\\b01-014.png\n",
      "(9, 10)\n",
      "current image is  data\\07\\2\\b01-018.png\n",
      "(9, 10)\n",
      "current image is  data\\07\\3\\b01-027.png\n",
      "(9, 10)\n",
      "current image is  data\\07\\3\\b01-033.png\n",
      "(6, 10)\n",
      "current image is  data\\07\\3.png\n"
     ]
    }
   ],
   "source": [
    "#######-------------------------MAIN---------------------------######\n",
    "##Global variables\n",
    "\n",
    "featuresCount = 10 \n",
    "\n",
    "# create output files\n",
    "f = open(\"results.txt\", \"w+\")\n",
    "f.close()\n",
    "f = open(\"time.txt\", \"w+\")\n",
    "f.close()\n",
    "\n",
    "for TestFolder in sorted(glob.glob(\"data/*\")):\n",
    "    \n",
    "    trainingImagePaths, testingImagePath, trainingLabels = readData(TestFolder)\n",
    "   \n",
    "    t0 = time.time()\n",
    "    \n",
    "    xTrain = np.empty([0, featuresCount])\n",
    "    yTrain = []\n",
    "    xTest = np.empty([0, featuresCount])\n",
    "    featuresVectors = []\n",
    "    ImageFeaturesVectors = np.empty([0, featuresCount])\n",
    "    testFeaturesVectors = np.empty([0, featuresCount])\n",
    "    \n",
    "    \n",
    "    xTrain, yTrain = getTrainingData(trainingImagePaths, trainingLabels, yTrain, ImageFeaturesVectors)\n",
    "    \n",
    "    xTest= getTestFeatures(testingImagePath, testFeaturesVectors)\n",
    "    \n",
    "    classification, predictions=SVM(xTrain, yTrain, xTest)\n",
    "    \n",
    "    t1 = time.time()\n",
    "    writeOutput(classification, t1, t0)\n"
   ]
  },
  {
   "cell_type": "code",
   "execution_count": 60,
   "metadata": {},
   "outputs": [
    {
     "ename": "SyntaxError",
     "evalue": "invalid syntax (<ipython-input-60-4176bed20f18>, line 1)",
     "output_type": "error",
     "traceback": [
      "\u001b[1;36m  File \u001b[1;32m\"<ipython-input-60-4176bed20f18>\"\u001b[1;36m, line \u001b[1;32m1\u001b[0m\n\u001b[1;33m    1 2 3 2 2 1 3\u001b[0m\n\u001b[1;37m      ^\u001b[0m\n\u001b[1;31mSyntaxError\u001b[0m\u001b[1;31m:\u001b[0m invalid syntax\n"
     ]
    }
   ],
   "source": [
    "1 2 3 2 2 1 3"
   ]
  },
  {
   "cell_type": "code",
   "execution_count": null,
   "metadata": {},
   "outputs": [],
   "source": []
  }
 ],
 "metadata": {
  "kernelspec": {
   "display_name": "Python 3",
   "language": "python",
   "name": "python3"
  },
  "language_info": {
   "codemirror_mode": {
    "name": "ipython",
    "version": 3
   },
   "file_extension": ".py",
   "mimetype": "text/x-python",
   "name": "python",
   "nbconvert_exporter": "python",
   "pygments_lexer": "ipython3",
   "version": "3.7.3"
  }
 },
 "nbformat": 4,
 "nbformat_minor": 2
}
